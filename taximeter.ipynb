{
 "cells": [
  {
   "cell_type": "code",
   "execution_count": 15,
   "outputs": [],
   "source": [
    "import numpy as np\n",
    "import pandas as pd\n",
    "import tensorflow as tf\n",
    "import os\n",
    "import csv\n",
    "import math\n",
    "\n",
    "from datetime import datetime\n",
    "from sklearn.preprocessing import StandardScaler"
   ],
   "metadata": {
    "collapsed": false,
    "pycharm": {
     "name": "#%%\n",
     "is_executing": false
    }
   }
  },
  {
   "cell_type": "code",
   "execution_count": 2,
   "outputs": [
    {
     "name": "stdout",
     "text": [
      "mv: dataset/train.csv: No such file or directory\r\n"
     ],
     "output_type": "stream"
    }
   ],
   "source": [
    "!mv dataset/train.csv dataset/data.csv"
   ],
   "metadata": {
    "collapsed": false,
    "pycharm": {
     "name": "#%%\n",
     "is_executing": false
    }
   }
  },
  {
   "cell_type": "code",
   "execution_count": 3,
   "outputs": [],
   "source": [
    "data_file_name = 'data.csv'\n",
    "no_samples = 55423855\n",
    "\n",
    "train_file_name = 'train_data.csv'\n",
    "val_file_name = 'val_data.csv'\n",
    "test_file_name = 'test_data.csv'\n",
    "\n",
    "transformed_train_file_name = 'transformed_train_data.csv'\n",
    "transformed_val_file_name = 'transformed_val_data.csv'\n",
    "transformed_test_file_name = 'transformed_test_data.csv'\n",
    "\n",
    "data_field_names = ['key', 'year', 'month', 'day', 'hour', 'minute', 'second', \n",
    "                    'passenger_count', 'distance', 'fare_amount']\n",
    "\n",
    "target_column = 'fare_amount'"
   ],
   "metadata": {
    "collapsed": false,
    "pycharm": {
     "name": "#%%\n",
     "is_executing": false
    }
   }
  },
  {
   "cell_type": "code",
   "execution_count": 4,
   "outputs": [],
   "source": [
    "def get_source_file_path(file_name):\n",
    "    return os.path.join(os.getcwd(), 'dataset', file_name)"
   ],
   "metadata": {
    "collapsed": false,
    "pycharm": {
     "name": "#%%\n",
     "is_executing": false
    }
   }
  },
  {
   "cell_type": "code",
   "execution_count": 5,
   "outputs": [],
   "source": [
    "data_file_path = get_source_file_path(data_file_name)\n",
    "\n",
    "train_file_path = get_source_file_path(train_file_name)\n",
    "val_file_path = get_source_file_path(val_file_name)\n",
    "test_file_path = get_source_file_path(test_file_name)"
   ],
   "metadata": {
    "collapsed": false,
    "pycharm": {
     "name": "#%%\n",
     "is_executing": false
    }
   }
  },
  {
   "cell_type": "code",
   "execution_count": 6,
   "outputs": [],
   "source": [
    "def calculate_distance(pickup_longitude, pickup_latitude, dropoff_longitude, dropoff_latitude):\n",
    "    if pickup_longitude == 0 or pickup_latitude == 0 or dropoff_latitude == 0 or dropoff_longitude == 0:\n",
    "        return 0\n",
    "\n",
    "    lat = abs(math.radians(pickup_latitude) - math.radians(dropoff_latitude))\n",
    "    long = abs(math.radians(pickup_longitude) - math.radians(dropoff_longitude))\n",
    "\n",
    "    a_lat = math.sin(lat / 2) * math.sin(lat / 2)\n",
    "    c_lat = 2 * math.atan2(math.sqrt(a_lat), math.sqrt(1 - a_lat))\n",
    "    lat_dist = 6371 * c_lat\n",
    "\n",
    "    a_long = math.sin(long / 2) * math.sin(long / 2)\n",
    "    c_long = 2 * math.atan2(math.sqrt(a_long), math.sqrt(1 - a_long))\n",
    "    long_dist = 6371 * c_long\n",
    "\n",
    "    return round(abs(lat_dist) + abs(long_dist), 1)"
   ],
   "metadata": {
    "collapsed": false,
    "pycharm": {
     "name": "#%%\n",
     "is_executing": false
    }
   }
  },
  {
   "cell_type": "code",
   "execution_count": 7,
   "outputs": [],
   "source": [
    "def split_source_file(file_columns, split_dist=(0.6, 0.1, 0.3)):\n",
    "    if os.path.exists(train_file_path) and os.path.exists(val_file_path) and os.path.exists(test_file_path):\n",
    "        return train_file_path, val_file_path, test_file_path\n",
    "\n",
    "    setup_data_source(train_file_path, file_columns)\n",
    "    setup_data_source(val_file_path, file_columns)\n",
    "    setup_data_source(test_file_path, file_columns)\n",
    "\n",
    "    train_percentage = split_dist[0]\n",
    "    val_percentage = split_dist[1]\n",
    "    test_percentage = split_dist[2]\n",
    "\n",
    "    train_threshold = int(no_samples * train_percentage)\n",
    "    val_threshold = train_threshold + int(no_samples * val_percentage)\n",
    "    test_threshold = val_threshold + int(no_samples * test_percentage)\n",
    "\n",
    "    train_file, train_writer = open_file_append(train_file_path, file_columns)\n",
    "    val_file, val_writer = open_file_append(val_file_path, file_columns)\n",
    "    test_file, test_writer = open_file_append(test_file_path, file_columns)\n",
    "\n",
    "    with open(data_file_path) as data_file:\n",
    "        data_file_reader = csv.DictReader(data_file)\n",
    "\n",
    "        next(data_file_reader, None)\n",
    "        for index, entry in enumerate(data_file_reader):\n",
    "            if index < train_threshold:\n",
    "                write_entry(entry, train_writer)\n",
    "            if train_threshold < index < val_threshold:\n",
    "                write_entry(entry, val_writer)\n",
    "            if index >= val_threshold:\n",
    "                write_entry(entry, test_writer)\n",
    "\n",
    "    train_file.close()\n",
    "    val_file.close()\n",
    "    test_file.close()\n",
    "\n",
    "def setup_data_source(file_path, file_columns):\n",
    "    with open(file_path, 'w') as file:\n",
    "        train_writer = csv.DictWriter(file, fieldnames=file_columns)\n",
    "        train_writer.writeheader()\n",
    "\n",
    "def open_file_append(file_path, file_columns):\n",
    "    file = open(file_path, 'a')\n",
    "    writer = csv.DictWriter(file, fieldnames=file_columns)\n",
    "    return file, writer\n",
    "\n",
    "def write_entry(entry, writer):\n",
    "    try:\n",
    "        fare_amount = float(entry['fare_amount'])\n",
    "        pickup_longitude = float(entry['pickup_longitude']) if entry['pickup_longitude'] != '' else 0\n",
    "        pickup_latitude = float(entry['pickup_latitude']) if entry['pickup_latitude'] != '' else 0\n",
    "        dropoff_longitude = float(entry['dropoff_longitude']) if entry['dropoff_longitude'] != '' else 0\n",
    "        dropoff_latitude = float(entry['dropoff_latitude']) if entry['dropoff_latitude'] != '' else 0\n",
    "        passenger_count = int(entry['passenger_count'])\n",
    "        distance = calculate_distance(pickup_longitude, pickup_latitude, dropoff_longitude, dropoff_latitude)\n",
    "\n",
    "        date = datetime.strptime(str(entry['pickup_datetime']), '%Y-%m-%d %H:%M:%S UTC')\n",
    "\n",
    "        writer.writerow({'year': date.year, 'month': date.month, 'day': date.day, 'hour': date.hour,\n",
    "                         'minute': date.minute, 'second': date.second, 'passenger_count': passenger_count,\n",
    "                         'distance': distance, 'fare_amount': fare_amount})\n",
    "    except ValueError:\n",
    "        print('entry has invalid values')"
   ],
   "metadata": {
    "collapsed": false,
    "pycharm": {
     "name": "#%%\n",
     "is_executing": false
    }
   }
  },
  {
   "cell_type": "code",
   "execution_count": 8,
   "outputs": [
    {
     "name": "stdout",
     "text": [
      "key,year,month,day,hour,minute,second,passenger_count,distance,fare_amount\r\r\n2010-01-05 16:52:16.0000002,2010,1,5,16,52,16,1,12.0,16.9\r\r\n2011-08-18 00:35:00.00000049,2011,8,18,0,35,0,2,2.1,5.7\r\r\n2012-04-21 04:30:42.0000001,2012,4,21,4,30,42,1,3.3,7.7\r\r\n2010-03-09 07:51:00.000000135,2010,3,9,7,51,0,1,3.0,5.3\r\r\n2011-01-06 09:50:45.0000002,2011,1,6,9,50,45,1,6.1,12.1\r\r\n2012-11-20 20:35:00.0000001,2012,11,20,20,35,0,1,2.2,7.5\r\r\n2012-01-04 17:22:00.00000081,2012,1,4,17,22,0,1,6.9,16.5\r\r\n2012-12-03 13:10:00.000000125,2012,12,3,13,10,0,1,2.0,9.0\r\r\n2009-09-02 01:11:00.00000083,2009,9,2,1,11,0,2,3.9,8.9\r\r\n"
     ],
     "output_type": "stream"
    }
   ],
   "source": [
    "!head {train_file_path}"
   ],
   "metadata": {
    "collapsed": false,
    "pycharm": {
     "name": "#%%\n",
     "is_executing": false
    }
   }
  },
  {
   "cell_type": "code",
   "execution_count": 9,
   "outputs": [
    {
     "name": "stdout",
     "text": [
      "key,year,month,day,hour,minute,second,passenger_count,distance,fare_amount\r\r\n2011-04-04 12:53:44.0000002,2011,4,4,12,53,44,1,2.1,6.1\r\r\n2012-10-16 20:16:56.0000001,2012,10,16,20,16,56,1,8.5,14.0\r\r\n2013-05-27 01:25:09.0000004,2013,5,27,1,25,9,1,4.1,14.0\r\r\n2010-06-25 06:37:00.00000026,2010,6,25,6,37,0,1,6.1,8.9\r\r\n2012-02-03 14:03:00.000000184,2012,2,3,14,3,0,1,1.3,7.7\r\r\n2013-07-17 22:43:11.0000002,2013,7,17,22,43,11,1,11.7,16.0\r\r\n2009-10-04 05:45:00.00000012,2009,10,4,5,45,0,5,14.1,18.1\r\r\n2009-11-29 19:17:00.00000099,2009,11,29,19,17,0,1,1.6,4.5\r\r\n2010-06-06 17:51:00.000000104,2010,6,6,17,51,0,1,1.1,4.5\r\r\n"
     ],
     "output_type": "stream"
    }
   ],
   "source": [
    "!head {val_file_path}"
   ],
   "metadata": {
    "collapsed": false,
    "pycharm": {
     "name": "#%%\n",
     "is_executing": false
    }
   }
  },
  {
   "cell_type": "code",
   "execution_count": 10,
   "outputs": [
    {
     "name": "stdout",
     "text": [
      "key,year,month,day,hour,minute,second,passenger_count,distance,fare_amount\r\r\n2010-03-29 16:00:00.00000031,2010,3,29,16,0,0,1,2.5,7.3\r\r\n2012-07-09 09:21:38.0000003,2012,7,9,9,21,38,1,7.1,12.5\r\r\n2013-05-02 18:39:05.0000006,2013,5,2,18,39,5,4,5.8,11.5\r\r\n2014-01-05 01:16:00.00000056,2014,1,5,1,16,0,5,0.4,3.5\r\r\n2010-05-13 19:30:10.0000004,2010,5,13,19,30,10,4,1.9,6.1\r\r\n2010-05-27 19:23:33.0000003,2010,5,27,19,23,33,1,4.6,8.5\r\r\n2010-09-09 19:24:00.000000210,2010,9,9,19,24,0,1,2.8,9.7\r\r\n2013-03-16 17:55:13.0000004,2013,3,16,17,55,13,1,4.3,9.0\r\r\n2011-10-21 19:57:19.0000003,2011,10,21,19,57,19,1,4.0,8.9\r\r\n"
     ],
     "output_type": "stream"
    }
   ],
   "source": [
    "!head {test_file_path}"
   ],
   "metadata": {
    "collapsed": false,
    "pycharm": {
     "name": "#%%\n",
     "is_executing": false
    }
   }
  },
  {
   "cell_type": "code",
   "execution_count": 16,
   "outputs": [],
   "source": [
    "def scale_dataset_save_to_disk(file_path, scaled_file_name):\n",
    "    scaled_file_path = get_source_file_path(scaled_file_name)\n",
    "    \n",
    "    if os.path.exists(scaled_file_path):\n",
    "        return scaled_file_path\n",
    "    \n",
    "    df = pd.read_csv(file_path)\n",
    "    features = df[['year', 'month', 'day', 'hour', 'minute', 'second', 'passenger_count', 'distance']]\n",
    "    target = df[['fare_amount']]\n",
    "    \n",
    "    scaler = StandardScaler()\n",
    "    scaled_features = scaler.fit_transform(features.values)\n",
    "    features = pd.DataFrame(data=scaled_features, columns=['year', 'month', 'day', 'hour', 'minute', 'second', \n",
    "                                                           'passenger_count', 'distance'])\n",
    "    \n",
    "    df = pd.concat([features, target], axis=1)\n",
    "    \n",
    "    df.to_csv(scaled_file_path)\n",
    "    \n",
    "    return scaled_file_path"
   ],
   "metadata": {
    "collapsed": false,
    "pycharm": {
     "name": "#%%\n",
     "is_executing": false
    }
   }
  },
  {
   "cell_type": "code",
   "execution_count": 17,
   "outputs": [],
   "source": [
    "transformed_train_file_path = scale_dataset_save_to_disk(train_file_path, transformed_train_file_name)"
   ],
   "metadata": {
    "collapsed": false,
    "pycharm": {
     "name": "#%%\n",
     "is_executing": false
    }
   }
  },
  {
   "cell_type": "code",
   "execution_count": 18,
   "outputs": [],
   "source": [
    "transformed_val_file_path = scale_dataset_save_to_disk(val_file_path, transformed_val_file_name)"
   ],
   "metadata": {
    "collapsed": false,
    "pycharm": {
     "name": "#%%\n",
     "is_executing": false
    }
   }
  },
  {
   "cell_type": "code",
   "execution_count": 19,
   "outputs": [],
   "source": [
    "transformed_test_file_path = scale_dataset_save_to_disk(test_file_path, transformed_test_file_name)"
   ],
   "metadata": {
    "collapsed": false,
    "pycharm": {
     "name": "#%%\n",
     "is_executing": false
    }
   }
  },
  {
   "cell_type": "code",
   "execution_count": 20,
   "outputs": [
    {
     "name": "stdout",
     "text": [
      ",year,month,day,hour,minute,second,passenger_count,distance,fare_amount\r\n0,-0.9350459117422577,-1.5328556698155498,-1.2338102099347008,0.38204534784905536,1.2936431424362251,0.009233325222440213,-0.5174363865786075,0.04446917833210273,16.9\r\n1,-0.39748218463311386,0.5045985327022482,0.26312360219004244,-2.0730194171825924,0.3127240921709917,-0.8142840494483844,0.2374902859442906,-0.03609809444894267,5.7\r\n2,0.14008154247602994,-0.6596610115936363,0.6085698665265217,-1.4592532259246807,0.02421848915180535,1.3474490590625303,-0.5174363865786075,-0.026332364414876568,7.7\r\n3,-0.9350459117422577,-0.9507258976676074,-0.7732151908193953,-0.9989285824812466,1.235942021832388,-0.8142840494483844,-0.5174363865786075,-0.028773796923393095,5.3\r\n4,-0.39748218463311386,-1.5328556698155498,-1.1186614551558745,-0.6920454868522906,1.1782409012285506,1.50185856681331,-0.5174363865786075,-0.003545661002055645,12.1\r\n5,0.14008154247602994,1.3777931909241616,0.49342111174769526,0.9958115391069673,0.3127240921709917,-0.8142840494483844,-0.5174363865786075,-0.0352842836127705,7.5\r\n6,0.14008154247602994,-1.5328556698155498,-1.3489589647135274,0.5354868956635334,-0.4373904756788928,-0.8142840494483844,-0.5174363865786075,0.002964825687321768,16.5\r\n7,0.14008154247602994,1.6688580769981327,-1.4641077194923537,-0.07827929559437864,-1.12980392292494,-0.8142840494483844,-0.5174363865786075,-0.03691190528511485,9.0\r\n8,-1.4726096388514014,0.7956634187762194,-1.57925647427118,-1.9195778693681145,-1.0721028023211028,-0.8142840494483844,0.2374902859442906,-0.021449499397843512,8.9\r\n"
     ],
     "output_type": "stream"
    }
   ],
   "source": [
    "!head {transformed_train_file_path}"
   ],
   "metadata": {
    "collapsed": false,
    "pycharm": {
     "name": "#%%\n",
     "is_executing": false
    }
   }
  },
  {
   "cell_type": "code",
   "execution_count": 21,
   "outputs": [
    {
     "name": "stdout",
     "text": [
      ",year,month,day,hour,minute,second,passenger_count,distance,fare_amount\r\n0,-0.3972282839191653,-0.659661598670524,-1.3490861966311478,-0.2309646690446781,1.3511742418955914,1.45104470393324,-0.5122455125558507,-0.03572869945199469,6.1\r\n1,0.14054723917577983,1.0868256634293523,0.032602915604914594,0.9967026829662163,-0.7837596882284843,2.068767061227297,-0.5122455125558507,0.01562827620813575,14.0\r\n2,0.678322762270725,-0.36858038832054457,1.2991512684879718,-1.9190072780596579,-0.26445143495506046,-0.35064550484109264,-0.5122455125558507,-0.019679644558203927,14.0\r\n3,-0.9350038070141105,-0.07749917797056521,1.0688697497819615,-1.151715183052849,0.4279595694095046,-0.8139372728116353,-0.5122455125558507,-0.0036305896644131656,8.9\r\n4,0.14054723917577983,-1.2418240193704826,-1.4642269559841532,0.0759521689580455,-1.5338716096234297,-0.8139372728116353,-0.5122455125558507,-0.04214832140951099,7.7\r\n5,0.678322762270725,0.21358203237941414,0.14774367495791982,1.3036195209689398,0.7741650715917872,-0.24769177862541647,-0.5122455125558507,0.041306764038200966,16.0\r\n6,-1.4727793301090557,1.0868256634293523,-1.3490861966311478,-1.3051736020542106,0.8895669056525479,-0.8139372728116353,2.478080725474712,0.06056562991074988,18.1\r\n7,-1.4727793301090557,1.3779068737793316,1.5294327871939823,0.8432442639648545,-0.7260587711981038,-0.8139372728116353,-0.5122455125558507,-0.03974096317544238,4.5\r\n8,-0.9350038070141105,-0.07749917797056521,-1.1188046779251375,0.5363274259621309,1.2357724078348304,-0.8139372728116353,-0.5122455125558507,-0.04375322689889007,4.5\r\n"
     ],
     "output_type": "stream"
    }
   ],
   "source": [
    "!head {transformed_val_file_path}"
   ],
   "metadata": {
    "collapsed": false,
    "pycharm": {
     "name": "#%%\n",
     "is_executing": false
    }
   }
  },
  {
   "cell_type": "code",
   "execution_count": 22,
   "outputs": [
    {
     "name": "stdout",
     "text": [
      ",year,month,day,hour,minute,second,passenger_count,distance,fare_amount\r\n0,-0.9351129252630839,-0.9507243643088166,1.529731604596719,0.3819225803114648,-1.7068317060747074,-0.8138993056384554,-0.5151710215978829,-0.03301486896884507,7.3\r\n1,0.14020118499052908,0.21365098510856032,-0.7732763350256169,-0.6920030480742525,-0.49500033437196256,1.1426456764789068,-0.5151710215978829,0.004850477382570455,12.5\r\n2,0.6778582401173355,-0.36853668960012814,-1.5793291138934344,0.6887584741359555,0.5437122699446758,-0.5564591764124867,1.7398248197548647,-0.005850598760220888,11.5\r\n3,1.2155152952441421,-1.532912039017505,-1.233877922950084,-1.9193466233722152,-0.7835316133488065,-0.8138993056384554,2.4914901002057803,-0.050301222737969546,3.5\r\n4,-0.9351129252630839,-0.36853668960012814,-0.3126747471011497,0.8421764210482008,0.02435596778635663,-0.29901904718651795,1.7398248197548647,-0.03795382718859492,6.1\r\n5,-0.9351129252630839,-0.36853668960012814,1.2994308106344854,0.8421764210482008,-0.37958782278122494,0.8852055472529381,-0.5151710215978829,-0.015728515199720593,8.5\r\n6,-0.9351129252630839,0.7958386598172488,-0.7732763350256169,0.8421764210482008,-0.3218815669858562,-0.8138993056384554,-0.5151710215978829,-0.030545389858970144,9.7\r\n7,0.6778582401173355,-0.9507243643088166,0.03277644384220069,0.5353405272237102,1.4670123626705767,-0.14455496965093673,-0.5151710215978829,-0.018197994309595514,9.0\r\n8,-0.3974558701362774,1.086932497171593,0.6085284287477847,0.8421764210482008,1.582424874261314,0.16437318542022572,-0.5151710215978829,-0.02066747341947044,8.9\r\n"
     ],
     "output_type": "stream"
    }
   ],
   "source": [
    "!head {transformed_test_file_path}"
   ],
   "metadata": {
    "collapsed": false,
    "pycharm": {
     "name": "#%%\n",
     "is_executing": false
    }
   }
  },
  {
   "cell_type": "code",
   "execution_count": 20,
   "outputs": [],
   "source": [
    "def get_dataset(file_path, **kwargs):\n",
    "  dataset = tf.data.experimental.make_csv_dataset(\n",
    "      file_path,\n",
    "      batch_size=5, \n",
    "      label_name=LABEL_COLUMN,\n",
    "      na_value=\"?\",\n",
    "      num_epochs=1,\n",
    "      ignore_errors=True, \n",
    "      **kwargs)\n",
    "  \n",
    "  return dataset\n",
    "\n",
    "def show_batch(dataset):\n",
    "  for batch, label in dataset.take(1):\n",
    "    for key, value in batch.items():\n",
    "      print(\"{:20s}: {}\".format(key,value.numpy()))"
   ],
   "metadata": {
    "collapsed": false,
    "pycharm": {
     "name": "#%%\n",
     "is_executing": false
    }
   }
  },
  {
   "cell_type": "code",
   "execution_count": 21,
   "outputs": [],
   "source": [
    "raw_data = get_dataset(data_file_path)\n",
    "show_batch(raw_data)\n",
    "\n"
   ],
   "metadata": {
    "collapsed": false,
    "pycharm": {
     "name": "#%%\n",
     "is_executing": false
    }
   }
  }
 ],
 "metadata": {
  "kernelspec": {
   "name": "python3",
   "language": "python",
   "display_name": "Python 3"
  },
  "language_info": {
   "codemirror_mode": {
    "name": "ipython",
    "version": 2
   },
   "file_extension": ".py",
   "mimetype": "text/x-python",
   "name": "python",
   "nbconvert_exporter": "python",
   "pygments_lexer": "ipython2",
   "version": "2.7.6"
  },
  "pycharm": {
   "stem_cell": {
    "cell_type": "raw",
    "source": [],
    "metadata": {
     "collapsed": false
    }
   }
  }
 },
 "nbformat": 4,
 "nbformat_minor": 0
}